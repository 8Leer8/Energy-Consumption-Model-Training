{
 "cells": [
  {
   "cell_type": "code",
   "execution_count": 10,
   "id": "75947c2d-630a-4493-839b-ceab281419da",
   "metadata": {},
   "outputs": [],
   "source": [
    "# Required Libraries\n",
    "import pandas as pd\n",
    "import numpy as np\n",
    "import pickle\n",
    "import os\n",
    "\n",
    "from sklearn.model_selection import train_test_split\n",
    "from sklearn.preprocessing import MinMaxScaler\n",
    "from sklearn.ensemble import RandomForestRegressor\n",
    "from sklearn.metrics import mean_squared_error, r2_score\n",
    "\n",
    "# Ensures folders exist\n",
    "os.makedirs('data', exist_ok=True)\n",
    "os.makedirs('model', exist_ok=True)\n"
   ]
  },
  {
   "cell_type": "code",
   "execution_count": 11,
   "id": "83b0cc61-2c1a-4e37-b9fa-7005266e1703",
   "metadata": {},
   "outputs": [
    {
     "data": {
      "text/html": [
       "<div>\n",
       "<style scoped>\n",
       "    .dataframe tbody tr th:only-of-type {\n",
       "        vertical-align: middle;\n",
       "    }\n",
       "\n",
       "    .dataframe tbody tr th {\n",
       "        vertical-align: top;\n",
       "    }\n",
       "\n",
       "    .dataframe thead th {\n",
       "        text-align: right;\n",
       "    }\n",
       "</style>\n",
       "<table border=\"1\" class=\"dataframe\">\n",
       "  <thead>\n",
       "    <tr style=\"text-align: right;\">\n",
       "      <th></th>\n",
       "      <th>Month</th>\n",
       "      <th>Hour</th>\n",
       "      <th>DayOfWeek</th>\n",
       "      <th>Holiday</th>\n",
       "      <th>Temperature</th>\n",
       "      <th>Humidity</th>\n",
       "      <th>SquareFootage</th>\n",
       "      <th>Occupancy</th>\n",
       "      <th>HVACUsage</th>\n",
       "      <th>LightingUsage</th>\n",
       "      <th>RenewableEnergy</th>\n",
       "      <th>EnergyConsumption</th>\n",
       "    </tr>\n",
       "  </thead>\n",
       "  <tbody>\n",
       "    <tr>\n",
       "      <th>0</th>\n",
       "      <td>1</td>\n",
       "      <td>0</td>\n",
       "      <td>Saturday</td>\n",
       "      <td>No</td>\n",
       "      <td>25.139433</td>\n",
       "      <td>43.431581</td>\n",
       "      <td>1565.693999</td>\n",
       "      <td>5</td>\n",
       "      <td>On</td>\n",
       "      <td>Off</td>\n",
       "      <td>2.774699</td>\n",
       "      <td>75.364373</td>\n",
       "    </tr>\n",
       "    <tr>\n",
       "      <th>1</th>\n",
       "      <td>1</td>\n",
       "      <td>1</td>\n",
       "      <td>Saturday</td>\n",
       "      <td>No</td>\n",
       "      <td>27.731651</td>\n",
       "      <td>54.225919</td>\n",
       "      <td>1411.064918</td>\n",
       "      <td>1</td>\n",
       "      <td>On</td>\n",
       "      <td>On</td>\n",
       "      <td>21.831384</td>\n",
       "      <td>83.401855</td>\n",
       "    </tr>\n",
       "    <tr>\n",
       "      <th>2</th>\n",
       "      <td>1</td>\n",
       "      <td>2</td>\n",
       "      <td>Saturday</td>\n",
       "      <td>No</td>\n",
       "      <td>28.704277</td>\n",
       "      <td>58.907658</td>\n",
       "      <td>1755.715009</td>\n",
       "      <td>2</td>\n",
       "      <td>Off</td>\n",
       "      <td>Off</td>\n",
       "      <td>6.764672</td>\n",
       "      <td>78.270888</td>\n",
       "    </tr>\n",
       "    <tr>\n",
       "      <th>3</th>\n",
       "      <td>1</td>\n",
       "      <td>3</td>\n",
       "      <td>Saturday</td>\n",
       "      <td>No</td>\n",
       "      <td>20.080469</td>\n",
       "      <td>50.371637</td>\n",
       "      <td>1452.316318</td>\n",
       "      <td>1</td>\n",
       "      <td>Off</td>\n",
       "      <td>On</td>\n",
       "      <td>8.623447</td>\n",
       "      <td>56.519850</td>\n",
       "    </tr>\n",
       "    <tr>\n",
       "      <th>4</th>\n",
       "      <td>1</td>\n",
       "      <td>4</td>\n",
       "      <td>Saturday</td>\n",
       "      <td>No</td>\n",
       "      <td>23.097359</td>\n",
       "      <td>51.401421</td>\n",
       "      <td>1094.130359</td>\n",
       "      <td>9</td>\n",
       "      <td>On</td>\n",
       "      <td>Off</td>\n",
       "      <td>3.071969</td>\n",
       "      <td>70.811732</td>\n",
       "    </tr>\n",
       "  </tbody>\n",
       "</table>\n",
       "</div>"
      ],
      "text/plain": [
       "   Month  Hour DayOfWeek Holiday  Temperature   Humidity  SquareFootage  \\\n",
       "0      1     0  Saturday      No    25.139433  43.431581    1565.693999   \n",
       "1      1     1  Saturday      No    27.731651  54.225919    1411.064918   \n",
       "2      1     2  Saturday      No    28.704277  58.907658    1755.715009   \n",
       "3      1     3  Saturday      No    20.080469  50.371637    1452.316318   \n",
       "4      1     4  Saturday      No    23.097359  51.401421    1094.130359   \n",
       "\n",
       "   Occupancy HVACUsage LightingUsage  RenewableEnergy  EnergyConsumption  \n",
       "0          5        On           Off         2.774699          75.364373  \n",
       "1          1        On            On        21.831384          83.401855  \n",
       "2          2       Off           Off         6.764672          78.270888  \n",
       "3          1       Off            On         8.623447          56.519850  \n",
       "4          9        On           Off         3.071969          70.811732  "
      ]
     },
     "execution_count": 11,
     "metadata": {},
     "output_type": "execute_result"
    }
   ],
   "source": [
    "# Load the dataset\n",
    "df = pd.read_excel('Energy_consumption_dataset(project).csv.xlsx')\n",
    "df.head()\n"
   ]
  },
  {
   "cell_type": "code",
   "execution_count": 12,
   "id": "c44b5027-cc34-4270-8c3f-267d36670238",
   "metadata": {},
   "outputs": [],
   "source": [
    "# Clean column names\n",
    "df = df.rename(columns=lambda x: x.strip())\n",
    "\n",
    "# Separate Features (X) and Target (y)\n",
    "X = df.drop(columns=['EnergyConsumption'])\n",
    "y = df['EnergyConsumption']\n",
    "\n",
    "# Encode categorical columns (adjust these based on your dataset)\n",
    "X['DayOfWeek'] = X['DayOfWeek'].astype('category').cat.codes\n",
    "X['Holiday'] = X['Holiday'].astype('category').cat.codes\n",
    "X['HVACUsage'] = X['HVACUsage'].astype('category').cat.codes\n",
    "X['LightingUsage'] = X['LightingUsage'].astype('category').cat.codes\n",
    "\n",
    "# Fill any missing values\n",
    "X = X.fillna(X.mean())\n"
   ]
  },
  {
   "cell_type": "code",
   "execution_count": 13,
   "id": "0ceb2ecf-3d00-4833-9b59-da7c1a253d97",
   "metadata": {},
   "outputs": [
    {
     "name": "stdout",
     "output_type": "stream",
     "text": [
      "✅ Train and test CSVs saved in the 'data' folder.\n"
     ]
    }
   ],
   "source": [
    "# Split the data into training and testing sets\n",
    "X_train, X_test, y_train, y_test = train_test_split(X, y, test_size=0.2, random_state=42)\n",
    "\n",
    "# Save Train and Test CSVs\n",
    "train_df = X_train.copy()\n",
    "train_df['EnergyConsumption'] = y_train\n",
    "test_df = X_test.copy()\n",
    "test_df['EnergyConsumption'] = y_test\n",
    "\n",
    "train_df.to_csv('data/train.csv', index=False)\n",
    "test_df.to_csv('data/test.csv', index=False)\n",
    "print(\"✅ Train and test CSVs saved in the 'data' folder.\")"
   ]
  },
  {
   "cell_type": "code",
   "execution_count": 14,
   "id": "3a72c916-f382-45c7-ba09-5581ec31877f",
   "metadata": {},
   "outputs": [],
   "source": [
    "# Initialize MinMaxScaler\n",
    "scaler = MinMaxScaler()\n",
    "\n",
    "# Fit and transform training data\n",
    "X_train_scaled = scaler.fit_transform(X_train)\n",
    "X_test_scaled = scaler.transform(X_test)\n"
   ]
  },
  {
   "cell_type": "code",
   "execution_count": 15,
   "id": "01fd3958-e1b2-4888-b956-1c796630c7fb",
   "metadata": {},
   "outputs": [
    {
     "name": "stdout",
     "output_type": "stream",
     "text": [
      "✅ Model training completed.\n"
     ]
    }
   ],
   "source": [
    "# Train RandomForestRegressor model\n",
    "model = RandomForestRegressor(n_estimators=200, max_depth=20, random_state=42)\n",
    "model.fit(X_train_scaled, y_train)\n",
    "print(\"✅ Model training completed.\")\n"
   ]
  },
  {
   "cell_type": "code",
   "execution_count": 16,
   "id": "ed17f17e-3f44-4919-8587-f75df43d094c",
   "metadata": {},
   "outputs": [
    {
     "name": "stdout",
     "output_type": "stream",
     "text": [
      "✅ Model Evaluation:\n",
      "RMSE: 7.95\n",
      "R² Score: 0.24\n"
     ]
    }
   ],
   "source": [
    "# Make predictions on test data\n",
    "y_pred = model.predict(X_test_scaled)\n",
    "\n",
    "# Calculate RMSE (Compatible with any version)\n",
    "mse = mean_squared_error(y_test, y_pred)\n",
    "rmse = np.sqrt(mse)  # Manually calculating RMSE without using 'squared' parameter\n",
    "\n",
    "# Calculate R² Score\n",
    "r2 = r2_score(y_test, y_pred)\n",
    "\n",
    "print(f'✅ Model Evaluation:')\n",
    "print(f'RMSE: {rmse:.2f}')\n",
    "print(f'R² Score: {r2:.2f}')\n"
   ]
  },
  {
   "cell_type": "code",
   "execution_count": 17,
   "id": "70c3c07a-79fb-4044-8500-49fd138cbd0f",
   "metadata": {},
   "outputs": [
    {
     "name": "stdout",
     "output_type": "stream",
     "text": [
      "✅ Model and scaler saved in the 'model' folder.\n"
     ]
    }
   ],
   "source": [
    "# Save the model and scaler\n",
    "with open('model/ml_model.sav', 'wb') as model_file:\n",
    "    pickle.dump(model, model_file)\n",
    "\n",
    "with open('model/scaler.sav', 'wb') as scaler_file:\n",
    "    pickle.dump(scaler, scaler_file)\n",
    "\n",
    "print(\"✅ Model and scaler saved in the 'model' folder.\")\n"
   ]
  },
  {
   "cell_type": "code",
   "execution_count": 18,
   "id": "36c78c55-519e-4afe-91d5-080be174bc5b",
   "metadata": {},
   "outputs": [
    {
     "name": "stdout",
     "output_type": "stream",
     "text": [
      "✅ Predictions on test data: [75.23852779 80.74827779 74.53706665 85.57517214 72.9168771  68.3254156\n",
      " 77.15494509 76.74457612 69.1693014  79.58892994]\n"
     ]
    }
   ],
   "source": [
    "# Load the saved model and scaler\n",
    "with open('model/ml_model.sav', 'rb') as model_file:\n",
    "    loaded_model = pickle.load(model_file)\n",
    "\n",
    "with open('model/scaler.sav', 'rb') as scaler_file:\n",
    "    loaded_scaler = pickle.load(scaler_file)\n",
    "\n",
    "# Load test data\n",
    "test_data = pd.read_csv('data/test.csv')\n",
    "X_new = test_data.drop(columns=['EnergyConsumption'])\n",
    "\n",
    "# Scale the new data\n",
    "X_new_scaled = loaded_scaler.transform(X_new)\n",
    "\n",
    "# Make predictions\n",
    "predictions = loaded_model.predict(X_new_scaled)\n",
    "print(f\"✅ Predictions on test data: {predictions[:10]}\")\n"
   ]
  },
  {
   "cell_type": "code",
   "execution_count": null,
   "id": "2e41dd1f-033e-4d34-be35-c9445601e19b",
   "metadata": {},
   "outputs": [],
   "source": []
  },
  {
   "cell_type": "code",
   "execution_count": null,
   "id": "437bac1d-15b8-4cbd-8d1d-e9ac9da5cfa3",
   "metadata": {},
   "outputs": [],
   "source": []
  },
  {
   "cell_type": "code",
   "execution_count": null,
   "id": "785d5cb2-2bd4-4fca-abc5-0c3b6b629f34",
   "metadata": {},
   "outputs": [],
   "source": []
  },
  {
   "cell_type": "code",
   "execution_count": null,
   "id": "aa925fa1-8f78-4720-92ac-bb20c99f02d6",
   "metadata": {},
   "outputs": [],
   "source": []
  },
  {
   "cell_type": "code",
   "execution_count": null,
   "id": "ce94d542-24b0-4d38-8e88-9355b61061d2",
   "metadata": {},
   "outputs": [],
   "source": []
  },
  {
   "cell_type": "code",
   "execution_count": null,
   "id": "befca445-cadf-436c-ab96-8d28a0b7203f",
   "metadata": {},
   "outputs": [],
   "source": []
  },
  {
   "cell_type": "code",
   "execution_count": null,
   "id": "675e5359-e0a8-4415-a2bc-97dff1ddff1d",
   "metadata": {},
   "outputs": [],
   "source": []
  }
 ],
 "metadata": {
  "kernelspec": {
   "display_name": "Python 3 (ipykernel)",
   "language": "python",
   "name": "python3"
  },
  "language_info": {
   "codemirror_mode": {
    "name": "ipython",
    "version": 3
   },
   "file_extension": ".py",
   "mimetype": "text/x-python",
   "name": "python",
   "nbconvert_exporter": "python",
   "pygments_lexer": "ipython3",
   "version": "3.13.2"
  }
 },
 "nbformat": 4,
 "nbformat_minor": 5
}
